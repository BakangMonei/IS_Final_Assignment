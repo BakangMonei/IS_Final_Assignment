{
 "cells": [
  {
   "cell_type": "markdown",
   "id": "wK1zGkIh50c-",
   "metadata": {
    "id": "wK1zGkIh50c-"
   },
   "source": [
    "### Asssignment"
   ]
  },
  {
   "cell_type": "markdown",
   "id": "-xNCQc7C5QSi",
   "metadata": {
    "id": "-xNCQc7C5QSi"
   },
   "source": [
    "Name: Bakang Monei Motshegwe\n",
    "Module: CSE301-Intelligent Systems\n",
    "Email: cse20-018@thuto.bac.ac.bw"
   ]
  },
  {
   "cell_type": "markdown",
   "id": "0y5x1X4j7eHB",
   "metadata": {
    "id": "0y5x1X4j7eHB"
   },
   "source": [
    "### Deliverables \n",
    "\n",
    "Task 1: Analyse and visualize data. [15 points]\n",
    "\n",
    "\n",
    "Task 2: Clean data.\t[20 points]\n",
    "\n",
    "\n",
    "Task 3: Develop machine learning models - logistic regression and  Decision Tree. [20 points]\n",
    "\n",
    "Task 4: Build a deep learning model on the data. [25 points]\n",
    "\n",
    "\n",
    "Task 5: Compare the accuracy of all the models by using an appropriate visualization. [20 points]\n"
   ]
  },
  {
   "cell_type": "markdown",
   "id": "gMKs7VwgRv4q",
   "metadata": {
    "id": "gMKs7VwgRv4q"
   },
   "source": [
    "##Importing Relevant Libraries"
   ]
  },
  {
   "cell_type": "code",
   "execution_count": 1,
   "id": "5fa663e5",
   "metadata": {
    "id": "5fa663e5"
   },
   "outputs": [],
   "source": [
    "#Importing Dependencies\n",
    "import numpy as np \n",
    "import matplotlib.pyplot as plt \n",
    "%matplotlib inline\n",
    "import pandas as pd \n",
    "import seaborn as sns "
   ]
  },
  {
   "cell_type": "code",
   "execution_count": 2,
   "id": "5d4f8024",
   "metadata": {
    "id": "5d4f8024"
   },
   "outputs": [],
   "source": [
    "df= pd.read_csv('CSEdata.csv')   #reading our CSV file using pandas to convert to dataframe"
   ]
  },
  {
   "cell_type": "code",
   "execution_count": 3,
   "id": "7a7f421a",
   "metadata": {
    "colab": {
     "base_uri": "https://localhost:8080/",
     "height": 333
    },
    "id": "7a7f421a",
    "outputId": "7ac77931-5059-4d54-cd1b-d02c6a274420"
   },
   "outputs": [
    {
     "data": {
      "text/html": [
       "<div>\n",
       "<style scoped>\n",
       "    .dataframe tbody tr th:only-of-type {\n",
       "        vertical-align: middle;\n",
       "    }\n",
       "\n",
       "    .dataframe tbody tr th {\n",
       "        vertical-align: top;\n",
       "    }\n",
       "\n",
       "    .dataframe thead th {\n",
       "        text-align: right;\n",
       "    }\n",
       "</style>\n",
       "<table border=\"1\" class=\"dataframe\">\n",
       "  <thead>\n",
       "    <tr style=\"text-align: right;\">\n",
       "      <th></th>\n",
       "      <th>Id</th>\n",
       "      <th>Income</th>\n",
       "      <th>Age</th>\n",
       "      <th>Experience</th>\n",
       "      <th>Married/Single</th>\n",
       "      <th>House_Ownership</th>\n",
       "      <th>Car_Ownership</th>\n",
       "      <th>Profession</th>\n",
       "      <th>CITY</th>\n",
       "      <th>STATE</th>\n",
       "      <th>CURRENT_JOB_YRS</th>\n",
       "      <th>CURRENT_HOUSE_YRS</th>\n",
       "      <th>Risk_Flag</th>\n",
       "    </tr>\n",
       "  </thead>\n",
       "  <tbody>\n",
       "    <tr>\n",
       "      <th>0</th>\n",
       "      <td>1</td>\n",
       "      <td>1303834</td>\n",
       "      <td>23</td>\n",
       "      <td>3</td>\n",
       "      <td>single</td>\n",
       "      <td>rented</td>\n",
       "      <td>no</td>\n",
       "      <td>Mechanical_engineer</td>\n",
       "      <td>Rewa</td>\n",
       "      <td>Madhya_Pradesh</td>\n",
       "      <td>3</td>\n",
       "      <td>13</td>\n",
       "      <td>0</td>\n",
       "    </tr>\n",
       "    <tr>\n",
       "      <th>1</th>\n",
       "      <td>2</td>\n",
       "      <td>7574516</td>\n",
       "      <td>40</td>\n",
       "      <td>10</td>\n",
       "      <td>single</td>\n",
       "      <td>rented</td>\n",
       "      <td>no</td>\n",
       "      <td>Software_Developer</td>\n",
       "      <td>Parbhani</td>\n",
       "      <td>Maharashtra</td>\n",
       "      <td>9</td>\n",
       "      <td>13</td>\n",
       "      <td>0</td>\n",
       "    </tr>\n",
       "    <tr>\n",
       "      <th>2</th>\n",
       "      <td>3</td>\n",
       "      <td>3991815</td>\n",
       "      <td>66</td>\n",
       "      <td>4</td>\n",
       "      <td>married</td>\n",
       "      <td>rented</td>\n",
       "      <td>no</td>\n",
       "      <td>Technical_writer</td>\n",
       "      <td>Alappuzha</td>\n",
       "      <td>Kerala</td>\n",
       "      <td>4</td>\n",
       "      <td>10</td>\n",
       "      <td>0</td>\n",
       "    </tr>\n",
       "    <tr>\n",
       "      <th>3</th>\n",
       "      <td>4</td>\n",
       "      <td>6256451</td>\n",
       "      <td>41</td>\n",
       "      <td>2</td>\n",
       "      <td>single</td>\n",
       "      <td>rented</td>\n",
       "      <td>yes</td>\n",
       "      <td>Software_Developer</td>\n",
       "      <td>Bhubaneswar</td>\n",
       "      <td>Odisha</td>\n",
       "      <td>2</td>\n",
       "      <td>12</td>\n",
       "      <td>1</td>\n",
       "    </tr>\n",
       "    <tr>\n",
       "      <th>4</th>\n",
       "      <td>5</td>\n",
       "      <td>5768871</td>\n",
       "      <td>47</td>\n",
       "      <td>11</td>\n",
       "      <td>single</td>\n",
       "      <td>rented</td>\n",
       "      <td>no</td>\n",
       "      <td>Civil_servant</td>\n",
       "      <td>Tiruchirappalli[10]</td>\n",
       "      <td>Tamil_Nadu</td>\n",
       "      <td>3</td>\n",
       "      <td>14</td>\n",
       "      <td>1</td>\n",
       "    </tr>\n",
       "  </tbody>\n",
       "</table>\n",
       "</div>"
      ],
      "text/plain": [
       "   Id   Income  Age  Experience Married/Single House_Ownership Car_Ownership  \\\n",
       "0   1  1303834   23           3         single          rented            no   \n",
       "1   2  7574516   40          10         single          rented            no   \n",
       "2   3  3991815   66           4        married          rented            no   \n",
       "3   4  6256451   41           2         single          rented           yes   \n",
       "4   5  5768871   47          11         single          rented            no   \n",
       "\n",
       "            Profession                 CITY           STATE  CURRENT_JOB_YRS  \\\n",
       "0  Mechanical_engineer                 Rewa  Madhya_Pradesh                3   \n",
       "1   Software_Developer             Parbhani     Maharashtra                9   \n",
       "2     Technical_writer            Alappuzha          Kerala                4   \n",
       "3   Software_Developer          Bhubaneswar          Odisha                2   \n",
       "4        Civil_servant  Tiruchirappalli[10]      Tamil_Nadu                3   \n",
       "\n",
       "   CURRENT_HOUSE_YRS  Risk_Flag  \n",
       "0                 13          0  \n",
       "1                 13          0  \n",
       "2                 10          0  \n",
       "3                 12          1  \n",
       "4                 14          1  "
      ]
     },
     "execution_count": 3,
     "metadata": {},
     "output_type": "execute_result"
    }
   ],
   "source": [
    "df.head() #Return the first 5 segments of the dataset"
   ]
  },
  {
   "cell_type": "markdown",
   "id": "WJhC9VzESkQs",
   "metadata": {
    "id": "WJhC9VzESkQs"
   },
   "source": [
    "## Data Cleaning and Preparation for Exploration and Modelling"
   ]
  },
  {
   "cell_type": "markdown",
   "id": "WSlOYZEcTHEW",
   "metadata": {
    "id": "WSlOYZEcTHEW"
   },
   "source": [
    "**Techniques which are effeicient for Data Preprocessing and Data Cleaning:**\n",
    "\n",
    "· Handling Null / Missing Values\n",
    "\n",
    "· Handling the categorical Values\n",
    "\n",
    "· Using get_dummies Method (Feature Engineering)"
   ]
  },
  {
   "cell_type": "code",
   "execution_count": 4,
   "id": "d96cbd81",
   "metadata": {
    "colab": {
     "base_uri": "https://localhost:8080/"
    },
    "id": "d96cbd81",
    "outputId": "26f1dac3-3c9f-472e-8cbe-43e2d701f777"
   },
   "outputs": [
    {
     "data": {
      "text/plain": [
       "Id                   0\n",
       "Income               0\n",
       "Age                  0\n",
       "Experience           0\n",
       "Married/Single       0\n",
       "House_Ownership      0\n",
       "Car_Ownership        0\n",
       "Profession           0\n",
       "CITY                 0\n",
       "STATE                0\n",
       "CURRENT_JOB_YRS      0\n",
       "CURRENT_HOUSE_YRS    0\n",
       "Risk_Flag            0\n",
       "dtype: int64"
      ]
     },
     "execution_count": 4,
     "metadata": {},
     "output_type": "execute_result"
    }
   ],
   "source": [
    "df.isna().sum() #what features (columns) contain null or missing values into the dataset."
   ]
  },
  {
   "cell_type": "markdown",
   "id": "fi9EWoU5TqQ1",
   "metadata": {
    "id": "fi9EWoU5TqQ1"
   },
   "source": [
    "- No existing null/ missing values in the dataset\n",
    "\n",
    "- if missing values existed we would have soled this problem using the fillna method to fill up the mean of the missing values "
   ]
  },
  {
   "cell_type": "markdown",
   "id": "JySdCz9aU3AI",
   "metadata": {
    "id": "JySdCz9aU3AI"
   },
   "source": [
    "## Handling the categorical Values\n",
    "\n",
    "Categorical Data is the data that generally takes a limited number of possible values. If data in the category is not numerical but textual in nature we would need to convert it to numeral reason being that machine learning models are mathematically inclined model and predictions are made based on numbers."
   ]
  },
  {
   "cell_type": "markdown",
   "id": "y8YCwf7qVbyL",
   "metadata": {
    "id": "y8YCwf7qVbyL"
   },
   "source": [
    "## The steps below are first dropping the columns containing the categorical values "
   ]
  },
  {
   "cell_type": "code",
   "execution_count": 5,
   "id": "ea9c7d6d",
   "metadata": {
    "id": "ea9c7d6d"
   },
   "outputs": [],
   "source": [
    "df.drop('Id',axis= 1, inplace= True)#this function will remove the selected column (i.e ID) from the dataset.\n",
    "#if we set inplace = True "
   ]
  },
  {
   "cell_type": "code",
   "execution_count": 6,
   "id": "a4334560",
   "metadata": {
    "id": "a4334560"
   },
   "outputs": [],
   "source": [
    "df.drop('STATE',axis= 1, inplace= True)"
   ]
  },
  {
   "cell_type": "code",
   "execution_count": 7,
   "id": "f5f48550",
   "metadata": {
    "id": "f5f48550"
   },
   "outputs": [],
   "source": [
    "df.drop('CITY',axis= 1, inplace= True)"
   ]
  },
  {
   "cell_type": "code",
   "execution_count": 8,
   "id": "e524c94d",
   "metadata": {
    "id": "e524c94d"
   },
   "outputs": [],
   "source": [
    "df.drop('Profession',axis= 1, inplace= True)"
   ]
  },
  {
   "cell_type": "code",
   "execution_count": 9,
   "id": "553f495e",
   "metadata": {
    "colab": {
     "base_uri": "https://localhost:8080/"
    },
    "id": "553f495e",
    "outputId": "9e13ede2-dcbf-4143-c517-08cc7e4c3089"
   },
   "outputs": [
    {
     "data": {
      "text/plain": [
       "Index(['Income', 'Age', 'Experience', 'Married/Single', 'House_Ownership',\n",
       "       'Car_Ownership', 'CURRENT_JOB_YRS', 'CURRENT_HOUSE_YRS', 'Risk_Flag'],\n",
       "      dtype='object')"
      ]
     },
     "execution_count": 9,
     "metadata": {},
     "output_type": "execute_result"
    }
   ],
   "source": [
    "df.columns # return all columns in the dataset after dropping columns with categorical values"
   ]
  },
  {
   "cell_type": "markdown",
   "id": "CTW58Z9GW20_",
   "metadata": {
    "id": "CTW58Z9GW20_"
   },
   "source": [
    "## The step below is for the purposes of handling the categorical values \n",
    "\n",
    "- We will do this using the map function map() which is used to substitute each value in a Series with another value, this will change/replace categorical variables with the binary numbers 0 and or 1\n",
    "\n",
    "- Another alternative is to use the get_dummies function but for the purposes of this project we use the map function\n",
    "\n",
    "-  The get_dummies creates at least (No_of_values-1) new columns while map can keep all the information in a single one."
   ]
  },
  {
   "cell_type": "code",
   "execution_count": 10,
   "id": "966d0ab5",
   "metadata": {
    "id": "966d0ab5"
   },
   "outputs": [],
   "source": [
    "#Converting categorical values to numerical values \n",
    "df['Married/Single']= df['Married/Single'].map({'married':0, 'single':1})\n",
    "df['House_Ownership']= df['House_Ownership'].map({'rented':0, 'owned':1, 'norent_noown':2})\n",
    "df['Car_Ownership']=df['Car_Ownership'].map({'yes':0, 'no':1})\n"
   ]
  },
  {
   "cell_type": "markdown",
   "id": "MWBEfO1raS_j",
   "metadata": {
    "id": "MWBEfO1raS_j"
   },
   "source": [
    "After converting all the categorical values our dataset information look like below:"
   ]
  },
  {
   "cell_type": "code",
   "execution_count": 11,
   "id": "7-8UcOteaJYI",
   "metadata": {
    "colab": {
     "base_uri": "https://localhost:8080/"
    },
    "id": "7-8UcOteaJYI",
    "outputId": "158dd281-2eca-421e-ba08-e3c3d3543b4d"
   },
   "outputs": [
    {
     "name": "stdout",
     "output_type": "stream",
     "text": [
      "<class 'pandas.core.frame.DataFrame'>\n",
      "RangeIndex: 252000 entries, 0 to 251999\n",
      "Data columns (total 9 columns):\n",
      " #   Column             Non-Null Count   Dtype\n",
      "---  ------             --------------   -----\n",
      " 0   Income             252000 non-null  int64\n",
      " 1   Age                252000 non-null  int64\n",
      " 2   Experience         252000 non-null  int64\n",
      " 3   Married/Single     252000 non-null  int64\n",
      " 4   House_Ownership    252000 non-null  int64\n",
      " 5   Car_Ownership      252000 non-null  int64\n",
      " 6   CURRENT_JOB_YRS    252000 non-null  int64\n",
      " 7   CURRENT_HOUSE_YRS  252000 non-null  int64\n",
      " 8   Risk_Flag          252000 non-null  int64\n",
      "dtypes: int64(9)\n",
      "memory usage: 17.3 MB\n"
     ]
    }
   ],
   "source": [
    "df.info()"
   ]
  },
  {
   "cell_type": "markdown",
   "id": "N2GMwV_SanJK",
   "metadata": {
    "id": "N2GMwV_SanJK"
   },
   "source": [
    "**Note that the one Categorical value (Risk_Flag) is our dependent feature so there is no need for converting into numerical value.**\n",
    "\n",
    "- Here there are no missing or null values. Our dataset is ready for model building"
   ]
  },
  {
   "cell_type": "markdown",
   "id": "TMBMg8UrbBbL",
   "metadata": {
    "id": "TMBMg8UrbBbL"
   },
   "source": [
    "#Exploratory Data Analysis (EDA)\n",
    "\n",
    "Exploratory data analysis (EDA) is an approach to analyzing data sets to summarize their main characteristics, often with visualizations. EDA is for seeing what the data can tell us beyond the formal modeling or hypothesis testing task."
   ]
  },
  {
   "cell_type": "markdown",
   "id": "bbb3T8fvZq55",
   "metadata": {
    "id": "bbb3T8fvZq55"
   },
   "source": [
    "## First we showcase the correlation between the data features using a heatmap"
   ]
  },
  {
   "cell_type": "markdown",
   "id": "vvkeenXZZy6r",
   "metadata": {
    "id": "vvkeenXZZy6r"
   },
   "source": [
    "- visualize and inspect for correlation among variables, and select features\n",
    "\n",
    "- the labels on the side show which features are correlated that is from 0.6 to 1.0 it show a high correlation between features"
   ]
  },
  {
   "cell_type": "code",
   "execution_count": 12,
   "id": "7e04e25e",
   "metadata": {
    "colab": {
     "base_uri": "https://localhost:8080/",
     "height": 388
    },
    "id": "7e04e25e",
    "outputId": "da22d938-963d-4952-8330-7d38dd262a5d"
   },
   "outputs": [
    {
     "data": {
      "text/plain": [
       "<function matplotlib.pyplot.show(close=None, block=None)>"
      ]
     },
     "execution_count": 12,
     "metadata": {},
     "output_type": "execute_result"
    },
    {
     "data": {
      "image/png": "[encoded data removed]",
      "text/plain": [
       "<Figure size 432x288 with 2 Axes>"
      ]
     },
     "metadata": {
      "needs_background": "light"
     },
     "output_type": "display_data"
    }
   ],
   "source": [
    "sns.heatmap(df.corr())\n",
    "plt.show"
   ]
  },
  {
   "cell_type": "markdown",
   "id": "Xutc9b2AcXOU",
   "metadata": {
    "id": "Xutc9b2AcXOU"
   },
   "source": []
  },
  {
   "cell_type": "markdown",
   "id": "pjh-pIRQlPLA",
   "metadata": {
    "id": "pjh-pIRQlPLA"
   },
   "source": [
    "##We maybe curious to decipher how the target variable distributed overally in the dataset...\n",
    "\n",
    "\n",
    "Our **Target variable** in the dataframe is the element **Risk_Flag.**\n",
    "\n",
    " The data type is a binary which has either 1 or 0 value. 1 indicates customer who are defaulted in loan repaymemt and 0 indicates who are not. so, to see how target variables are distributed we can use value_counts function as below."
   ]
  },
  {
   "cell_type": "code",
   "execution_count": 13,
   "id": "MS6Zz6belI0r",
   "metadata": {
    "colab": {
     "base_uri": "https://localhost:8080/",
     "height": 347
    },
    "id": "MS6Zz6belI0r",
    "outputId": "0dfbab2f-f95b-4244-e05b-d9ed48eee728"
   },
   "outputs": [
    {
     "name": "stdout",
     "output_type": "stream",
     "text": [
      "0    221004\n",
      "1     30996\n",
      "Name: Risk_Flag, dtype: int64\n"
     ]
    },
    {
     "data": {
      "text/plain": [
       "Text(0.5, 1.0, 'Default Count')"
      ]
     },
     "execution_count": 13,
     "metadata": {},
     "output_type": "execute_result"
    },
    {
     "data": {
      "image/png": "[encoded data removed]",
      "text/plain": [
       "<Figure size 432x288 with 1 Axes>"
      ]
     },
     "metadata": {
      "needs_background": "light"
     },
     "output_type": "display_data"
    }
   ],
   "source": [
    "print(df.Risk_Flag.value_counts())\n",
    "df.Risk_Flag.value_counts().plot.bar()\n",
    "plt.title('Default Count')"
   ]
  },
  {
   "cell_type": "markdown",
   "id": "DPmkPPY2dOeq",
   "metadata": {
    "id": "DPmkPPY2dOeq"
   },
   "source": [
    "### We will now explore the distinct relationship between the target variable i.e dependent variable and other categorical variables :"
   ]
  },
  {
   "cell_type": "code",
   "execution_count": 14,
   "id": "0eb813a9",
   "metadata": {
    "id": "0eb813a9",
    "outputId": "cbf0bfb0-53c1-4ef7-8fc9-c5b7d2cb4947"
   },
   "outputs": [
    {
     "data": {
      "text/plain": [
       "<AxesSubplot:xlabel='House_Ownership', ylabel='count'>"
      ]
     },
     "execution_count": 14,
     "metadata": {},
     "output_type": "execute_result"
    },
    {
     "data": {
      "image/png": "[encoded data removed]",
      "text/plain": [
       "<Figure size 432x288 with 1 Axes>"
      ]
     },
     "metadata": {
      "needs_background": "light"
     },
     "output_type": "display_data"
    }
   ],
   "source": [
    "#Effect of House ownership on Risk Flag\n",
    "sns.countplot(x='House_Ownership', hue='Risk_Flag', data=df)"
   ]
  },
  {
   "cell_type": "markdown",
   "id": "3rrAfTwfL2U9",
   "metadata": {
    "id": "3rrAfTwfL2U9"
   },
   "source": [
    "### Let’s understand loan allocation/ Risk_Flag based on Marital status features in the dataset"
   ]
  },
  {
   "cell_type": "code",
   "execution_count": 15,
   "id": "93av1dLdGRP0",
   "metadata": {
    "colab": {
     "base_uri": "https://localhost:8080/",
     "height": 296
    },
    "id": "93av1dLdGRP0",
    "outputId": "10f1ae7d-c7bc-4017-d1cf-ed7ed72dd4fa"
   },
   "outputs": [
    {
     "data": {
      "text/plain": [
       "<AxesSubplot:xlabel='Married/Single', ylabel='count'>"
      ]
     },
     "execution_count": 15,
     "metadata": {},
     "output_type": "execute_result"
    },
    {
     "data": {
      "image/png": "[encoded data removed]",
      "text/plain": [
       "<Figure size 432x288 with 1 Axes>"
      ]
     },
     "metadata": {},
     "output_type": "display_data"
    }
   ],
   "source": [
    "sns.set_style('whitegrid')\n",
    "sns.countplot( x= 'Married/Single' , data = df) #{'married':0, 'single':1})"
   ]
  },
  {
   "cell_type": "code",
   "execution_count": 16,
   "id": "YlMayNvHO6Cc",
   "metadata": {
    "colab": {
     "base_uri": "https://localhost:8080/",
     "height": 312
    },
    "id": "YlMayNvHO6Cc",
    "outputId": "ad18ac80-e079-43d5-f4d2-570fa2d01038"
   },
   "outputs": [
    {
     "data": {
      "text/plain": [
       "Text(0.5, 1.0, 'Marital Bar Graph')"
      ]
     },
     "execution_count": 16,
     "metadata": {},
     "output_type": "execute_result"
    },
    {
     "data": {
      "image/png": "[encoded data removed]",
      "text/plain": [
       "<Figure size 432x288 with 1 Axes>"
      ]
     },
     "metadata": {},
     "output_type": "display_data"
    }
   ],
   "source": [
    "# Let's Bar Chart to draw the marital vs loan default chart\n",
    "sns.countplot(x='Married/Single',hue='Risk_Flag',data=df)\n",
    "plt.title('Marital Bar Graph')"
   ]
  },
  {
   "cell_type": "markdown",
   "id": "q3U8jAq_MbvP",
   "metadata": {
    "id": "q3U8jAq_MbvP"
   },
   "source": [
    "### Let's understand the Risk_Flag status based on income , how much an individual earns presumably monthly"
   ]
  },
  {
   "cell_type": "code",
   "execution_count": 17,
   "id": "zf6y08v2Mn3e",
   "metadata": {
    "colab": {
     "base_uri": "https://localhost:8080/",
     "height": 296
    },
    "id": "zf6y08v2Mn3e",
    "outputId": "c60e63e0-deaa-4f09-87c5-982a840cbf63"
   },
   "outputs": [
    {
     "data": {
      "text/plain": [
       "<AxesSubplot:>"
      ]
     },
     "execution_count": 17,
     "metadata": {},
     "output_type": "execute_result"
    },
    {
     "data": {
      "image/png": "[encoded data removed]",
      "text/plain": [
       "<Figure size 432x288 with 1 Axes>"
      ]
     },
     "metadata": {},
     "output_type": "display_data"
    }
   ],
   "source": [
    "df['Income'].hist(bins= 14, color = 'blue', alpha =0.6)"
   ]
  },
  {
   "cell_type": "code",
   "execution_count": 18,
   "id": "d884cd52",
   "metadata": {
    "colab": {
     "base_uri": "https://localhost:8080/",
     "height": 265
    },
    "id": "d884cd52",
    "outputId": "182e7563-a530-4fc9-b5ea-823fbd777bba"
   },
   "outputs": [
    {
     "data": {
      "text/plain": [
       "<AxesSubplot:ylabel='Age'>"
      ]
     },
     "execution_count": 18,
     "metadata": {},
     "output_type": "execute_result"
    },
    {
     "data": {
      "image/png": "[encoded data removed]",
      "text/plain": [
       "<Figure size 432x288 with 1 Axes>"
      ]
     },
     "metadata": {},
     "output_type": "display_data"
    }
   ],
   "source": [
    "sns.boxplot(y = 'Age', data = df)\n",
    "# overal age distribution of the Risk_Flag participants under observation"
   ]
  },
  {
   "cell_type": "markdown",
   "id": "Otd4clzpN0Qy",
   "metadata": {
    "id": "Otd4clzpN0Qy"
   },
   "source": [
    "Now, lets draw the relation between between age and loan default variable."
   ]
  },
  {
   "cell_type": "code",
   "execution_count": 19,
   "id": "EnVq0lqRN1qG",
   "metadata": {
    "colab": {
     "base_uri": "https://localhost:8080/",
     "height": 313
    },
    "id": "EnVq0lqRN1qG",
    "outputId": "f9e05d3a-e703-4c2f-be5a-4ff37bc8d152"
   },
   "outputs": [
    {
     "data": {
      "text/plain": [
       "Text(0.5, 1.0, 'Age BoxPlot')"
      ]
     },
     "execution_count": 19,
     "metadata": {},
     "output_type": "execute_result"
    },
    {
     "data": {
      "image/png": "[encoded data removed]",
      "text/plain": [
       "<Figure size 432x288 with 1 Axes>"
      ]
     },
     "metadata": {},
     "output_type": "display_data"
    }
   ],
   "source": [
    "sns.boxplot(x='Risk_Flag', y='Age',data=df)\n",
    "plt.title('Age BoxPlot')"
   ]
  },
  {
   "cell_type": "code",
   "execution_count": null,
   "id": "-xcE18R8P0oC",
   "metadata": {
    "id": "-xcE18R8P0oC"
   },
   "outputs": [],
   "source": []
  },
  {
   "cell_type": "code",
   "execution_count": 20,
   "id": "1r73iUCtPXrJ",
   "metadata": {
    "colab": {
     "base_uri": "https://localhost:8080/",
     "height": 175
    },
    "id": "1r73iUCtPXrJ",
    "outputId": "624144ad-98f5-43ba-84a9-8bf902f51b4a"
   },
   "outputs": [
    {
     "data": {
      "text/html": [
       "<div>\n",
       "<style scoped>\n",
       "    .dataframe tbody tr th:only-of-type {\n",
       "        vertical-align: middle;\n",
       "    }\n",
       "\n",
       "    .dataframe tbody tr th {\n",
       "        vertical-align: top;\n",
       "    }\n",
       "\n",
       "    .dataframe thead th {\n",
       "        text-align: right;\n",
       "    }\n",
       "</style>\n",
       "<table border=\"1\" class=\"dataframe\">\n",
       "  <thead>\n",
       "    <tr style=\"text-align: right;\">\n",
       "      <th>Risk_Flag</th>\n",
       "      <th>0</th>\n",
       "      <th>1</th>\n",
       "    </tr>\n",
       "    <tr>\n",
       "      <th>House_Ownership</th>\n",
       "      <th></th>\n",
       "      <th></th>\n",
       "    </tr>\n",
       "  </thead>\n",
       "  <tbody>\n",
       "    <tr>\n",
       "      <th>0</th>\n",
       "      <td>202777</td>\n",
       "      <td>29121</td>\n",
       "    </tr>\n",
       "    <tr>\n",
       "      <th>1</th>\n",
       "      <td>11758</td>\n",
       "      <td>1160</td>\n",
       "    </tr>\n",
       "    <tr>\n",
       "      <th>2</th>\n",
       "      <td>6469</td>\n",
       "      <td>715</td>\n",
       "    </tr>\n",
       "  </tbody>\n",
       "</table>\n",
       "</div>"
      ],
      "text/plain": [
       "Risk_Flag             0      1\n",
       "House_Ownership               \n",
       "0                202777  29121\n",
       "1                 11758   1160\n",
       "2                  6469    715"
      ]
     },
     "execution_count": 20,
     "metadata": {},
     "output_type": "execute_result"
    }
   ],
   "source": [
    "# lets understand risk_flag in comparison to house ownership\n",
    "house_loan=pd.crosstab(df['House_Ownership'],df['Risk_Flag'])\n",
    "house_loan"
   ]
  },
  {
   "cell_type": "markdown",
   "id": "EnA6wqBmQRNG",
   "metadata": {
    "id": "EnA6wqBmQRNG"
   },
   "source": [
    "Let's understand the distribution of the target variable according to length of experience , urrent job years , they state particiant under observation lives in and if they own a vehicle, to decipher how  they each influence the rate of defaulting or not defaulting i.e the Risk_Flag"
   ]
  },
  {
   "cell_type": "code",
   "execution_count": 21,
   "id": "PXd4LXo-QQvB",
   "metadata": {
    "colab": {
     "base_uri": "https://localhost:8080/",
     "height": 1000
    },
    "id": "PXd4LXo-QQvB",
    "outputId": "c42d8b6c-d1a1-44d7-86f2-1eca9128d9a1"
   },
   "outputs": [
    {
     "data": {
      "image/png": "[encoded data removed]",
      "text/plain": [
       "<Figure size 1440x504 with 1 Axes>"
      ]
     },
     "metadata": {},
     "output_type": "display_data"
    },
    {
     "data": {
      "image/png": "[encoded data removed]",
      "text/plain": [
       "<Figure size 1440x504 with 1 Axes>"
      ]
     },
     "metadata": {},
     "output_type": "display_data"
    },
    {
     "data": {
      "image/png": "[encoded data removed]",
      "text/plain": [
       "<Figure size 1440x504 with 1 Axes>"
      ]
     },
     "metadata": {},
     "output_type": "display_data"
    },
    {
     "data": {
      "image/png": "[encoded data removed]",
      "text/plain": [
       "<Figure size 1440x504 with 1 Axes>"
      ]
     },
     "metadata": {},
     "output_type": "display_data"
    }
   ],
   "source": [
    "for i in ['Experience','CURRENT_JOB_YRS','Car_Ownership','CURRENT_HOUSE_YRS']:\n",
    "    ct = pd.crosstab(df[i], df['Risk_Flag'])\n",
    "    ct.plot.bar(stacked = True,figsize=(20,7))\n",
    "    plt.legend(labels=['Not Defaulted','Defaulted'])\n",
    "    plt.show()"
   ]
  },
  {
   "cell_type": "code",
   "execution_count": null,
   "id": "opFOxmiIc_VE",
   "metadata": {
    "colab": {
     "base_uri": "https://localhost:8080/",
     "height": 823
    },
    "id": "opFOxmiIc_VE",
    "outputId": "b3173400-2843-4bde-d52b-fe6c89692b6f"
   },
   "outputs": [
    {
     "data": {
      "text/plain": [
       "<matplotlib.axes._subplots.AxesSubplot at 0x7f5d7bdee850>"
      ]
     },
     "execution_count": 33,
     "metadata": {},
     "output_type": "execute_result"
    },
    {
     "data": {
      "image/png": "[encoded data removed]",
      "text/plain": [
       "<Figure size 1152x864 with 2 Axes>"
      ]
     },
     "metadata": {},
     "output_type": "display_data"
    }
   ],
   "source": [
    "#Final Data Outlook\n",
    "df.corr()\n",
    "plt.figure(\n",
    "        figsize=[16,12]\n",
    ")\n",
    "sns.heatmap(\n",
    "        data=df.corr(), \n",
    "        cmap='viridis', \n",
    "        annot=False, \n",
    "        fmt='.2g'\n",
    ")"
   ]
  },
  {
   "cell_type": "markdown",
   "id": "z83cpMZxRYwC",
   "metadata": {
    "id": "z83cpMZxRYwC"
   },
   "source": [
    "## Develop machine learning models - logistic regression and  Decision Tree"
   ]
  },
  {
   "cell_type": "code",
   "execution_count": null,
   "id": "7BefChJHRpZo",
   "metadata": {
    "id": "7BefChJHRpZo"
   },
   "outputs": [],
   "source": [
    "# Import the depedencies\n",
    "\n",
    "import numpy as np\n",
    "import pandas_datareader.data as web\n",
    "import pandas as pd\n",
    "from sklearn import preprocessing\n",
    "from sklearn.linear_model import LogisticRegression\n",
    "from sklearn.model_selection import train_test_split\n",
    "from sklearn.metrics import confusion_matrix\n"
   ]
  },
  {
   "cell_type": "markdown",
   "id": "senSlOhWSPjN",
   "metadata": {
    "id": "senSlOhWSPjN"
   },
   "source": [
    "Logistic Regression"
   ]
  },
  {
   "cell_type": "code",
   "execution_count": null,
   "id": "fc2cb701",
   "metadata": {
    "id": "fc2cb701"
   },
   "outputs": [],
   "source": [
    "x = df.drop('Risk_Flag',axis=1)#target variable\n",
    "y= df['Risk_Flag']#value to be predicted"
   ]
  },
  {
   "cell_type": "markdown",
   "id": "sBImbU0mSb6W",
   "metadata": {
    "id": "sBImbU0mSb6W"
   },
   "source": [
    "- Below we split our data into train and test sets\n",
    "\n",
    "- Divide our data into features (X) and labels (y)\n",
    "\n",
    "- Dataframe divided into X_train, X_test, y_train, and y_test. X_train and y_train sets are used for training and fitting the model."
   ]
  },
  {
   "cell_type": "code",
   "execution_count": null,
   "id": "082fe1a1",
   "metadata": {
    "id": "082fe1a1"
   },
   "outputs": [],
   "source": [
    "x_train,x_test,y_train,y_test = train_test_split(x,y,test_size=0.2, random_state=0)"
   ]
  },
  {
   "cell_type": "code",
   "execution_count": null,
   "id": "74bf93d5",
   "metadata": {
    "id": "74bf93d5",
    "outputId": "99d25f78-0306-43de-c0b9-d197dd946d80"
   },
   "outputs": [
    {
     "data": {
      "text/plain": [
       "((201600, 8), (50400, 8), (201600,), (50400,))"
      ]
     },
     "execution_count": 16,
     "metadata": {},
     "output_type": "execute_result"
    }
   ],
   "source": [
    "x_train.shape,x_test.shape,y_train.shape,y_test.shape"
   ]
  },
  {
   "cell_type": "markdown",
   "id": "Jc_VO3-3TC-g",
   "metadata": {
    "id": "Jc_VO3-3TC-g"
   },
   "source": [
    "- Model fitting occuring below\n",
    "- Logistic Regression is a Machine Learning classification algorithm that is used to predict the probability of a categorical dependent variable that being said the dependent variable is a binary variable that contains data coded as 1 for Yes and 0 for No."
   ]
  },
  {
   "cell_type": "code",
   "execution_count": null,
   "id": "b50d492c",
   "metadata": {
    "id": "b50d492c"
   },
   "outputs": [],
   "source": [
    "model = LogisticRegression()\n",
    "model.fit(x_train,y_train)"
   ]
  },
  {
   "cell_type": "markdown",
   "id": "dUNAr72TTbWK",
   "metadata": {
    "id": "dUNAr72TTbWK"
   },
   "source": [
    "Now that we have trained the logistic regression model , now we can perfom prediction on a new data set i.e test data that was not used in training the model"
   ]
  },
  {
   "cell_type": "code",
   "execution_count": null,
   "id": "7d998505",
   "metadata": {
    "id": "7d998505"
   },
   "outputs": [],
   "source": [
    "y_pred=model.predict(x_test)"
   ]
  },
  {
   "cell_type": "markdown",
   "id": "xE2OGXm_TvUM",
   "metadata": {
    "id": "xE2OGXm_TvUM"
   },
   "source": [
    "**Notes:**\n",
    "\n",
    "- Confusion Matrix : shows the number of TRUE positives,TRUE negatives and FALSE positives and FALSE negatives\n",
    "\n",
    "- Accuracy score: Accuracy represents the number of correctly classified data instances over the total number of data instances hence we multiply the result by 100 to convert it to a percentage"
   ]
  },
  {
   "cell_type": "code",
   "execution_count": null,
   "id": "746afb07",
   "metadata": {
    "id": "746afb07"
   },
   "outputs": [],
   "source": [
    "from sklearn.metrics import confusion_matrix\n",
    "from sklearn.metrics import accuracy_score "
   ]
  },
  {
   "cell_type": "code",
   "execution_count": null,
   "id": "2a43460b",
   "metadata": {
    "id": "2a43460b",
    "outputId": "7475f0ed-f6d1-4705-9faf-282aec44b0d3"
   },
   "outputs": [
    {
     "name": "stdout",
     "output_type": "stream",
     "text": [
      "Confusion Matrix: \n",
      " [[44259     0]\n",
      " [ 6141     0]]\n",
      "\n",
      "\n",
      "Accuracy: \n",
      " 87.81547619047619\n",
      "\n",
      "\n"
     ]
    }
   ],
   "source": [
    "print(\"Confusion Matrix: \\n\", confusion_matrix(y_test,y_pred))\n",
    "print(\"\\n\")\n",
    "\n",
    "print(\"Accuracy: \\n\", accuracy_score(y_test,y_pred)*100)\n",
    "print(\"\\n\")"
   ]
  },
  {
   "cell_type": "markdown",
   "id": "jfqz5rVsUUkB",
   "metadata": {
    "id": "jfqz5rVsUUkB"
   },
   "source": [
    "## Decision Tree model building"
   ]
  },
  {
   "cell_type": "code",
   "execution_count": null,
   "id": "dd0e9d1a",
   "metadata": {
    "id": "dd0e9d1a"
   },
   "outputs": [],
   "source": [
    "from sklearn.tree import DecisionTreeClassifier,export_graphviz\n",
    "from sklearn.metrics import accuracy_score, confusion_matrix,classification_report\n",
    "from io import StringIO\n",
    "from sklearn.model_selection import train_test_split"
   ]
  },
  {
   "cell_type": "code",
   "execution_count": null,
   "id": "1d14095c",
   "metadata": {
    "id": "1d14095c"
   },
   "outputs": [],
   "source": [
    "model= DecisionTreeClassifier(criterion=\"entropy\",random_state=25, max_depth=5)\n",
    "model.fit(x_train,y_train)\n",
    "y_pred = model.predict(x_test)"
   ]
  },
  {
   "cell_type": "code",
   "execution_count": null,
   "id": "3b10af5a",
   "metadata": {
    "id": "3b10af5a",
    "outputId": "40e32317-46a6-42e1-d124-704580e6e93f"
   },
   "outputs": [
    {
     "name": "stdout",
     "output_type": "stream",
     "text": [
      "Confusion Matrix: \n",
      " [[44254     5]\n",
      " [ 6127    14]]\n",
      "\n",
      "\n",
      "Accuracy: \n",
      " 87.83333333333333\n",
      "\n",
      "\n"
     ]
    }
   ],
   "source": [
    "print(\"Confusion Matrix: \\n\", confusion_matrix(y_test,y_pred))\n",
    "print(\"\\n\")\n",
    "\n",
    "print(\"Accuracy: \\n\", accuracy_score(y_test,y_pred)*100)\n",
    "print(\"\\n\")"
   ]
  },
  {
   "cell_type": "markdown",
   "id": "8UKpg1OMW5jH",
   "metadata": {
    "id": "8UKpg1OMW5jH"
   },
   "source": [
    "##Deep Learning Model Building using tensors and keras"
   ]
  },
  {
   "cell_type": "code",
   "execution_count": null,
   "id": "c463df55",
   "metadata": {
    "id": "c463df55"
   },
   "outputs": [],
   "source": [
    "#Importing dependencies \n",
    "import tensorflow as tf\n",
    "from keras.models import Sequential\n",
    "from keras.layers import Dense"
   ]
  },
  {
   "cell_type": "markdown",
   "id": "4uzzDUgqePWf",
   "metadata": {
    "id": "4uzzDUgqePWf"
   },
   "source": [
    "## DEFINING ARCHITECTURE OF MODEL\n",
    "\n",
    "- **Below we will be define the number of inputs, hidden and output neuron:**\n",
    "\n",
    "\n",
    "- We picked relu as an activation function for hidden layers \n",
    "- We have used sigmoid activation function in the final layer."
   ]
  },
  {
   "cell_type": "markdown",
   "id": "rkLM8Pz7ePEu",
   "metadata": {
    "id": "rkLM8Pz7ePEu"
   },
   "source": [
    "1.  The model expects rows of data with 8 variables (the input_shape=(8,) argument)\n",
    "2. The first hidden layer has 12 nodes and uses the relu activation function.\n",
    "3. The second hidden layer has 8 nodes and uses the relu activation function.\n",
    "4. The output layer has one node and uses the sigmoid activation function."
   ]
  },
  {
   "cell_type": "code",
   "execution_count": null,
   "id": "b5018e19",
   "metadata": {
    "id": "b5018e19"
   },
   "outputs": [],
   "source": [
    "# define the keras model\n",
    "model = Sequential()\n",
    "model.add(Dense(12, input_shape=(8,), activation='relu'))\n",
    "model.add(Dense(8, activation='relu'))\n",
    "model.add(Dense(1, activation='sigmoid'))"
   ]
  },
  {
   "cell_type": "markdown",
   "id": "Wfdh6-LefpUZ",
   "metadata": {
    "id": "Wfdh6-LefpUZ"
   },
   "source": [
    "### COMPILING THE MODEL (LOSS FUNCTION / OPTIMIZER): \n",
    "\n",
    "In this part we define our loss function and optimizer which is helpful in validating our data and backward propagation"
   ]
  },
  {
   "cell_type": "code",
   "execution_count": null,
   "id": "a0ccf4ee",
   "metadata": {
    "id": "a0ccf4ee"
   },
   "outputs": [],
   "source": [
    "model.compile(loss='binary_crossentropy', optimizer='adam', metrics=['accuracy'])# this function compiles the model and makes it completely\n",
    "#ready to use"
   ]
  },
  {
   "cell_type": "markdown",
   "id": "my1cOQTDgGpl",
   "metadata": {
    "id": "my1cOQTDgGpl"
   },
   "source": [
    "## TRAINING THE MODEL: \n",
    "\n",
    "- In this part we will train our model by passing our independent and dependent variable along with validation data and number of epochs which specifies the number of times our model is going through the training set.\n",
    "\n",
    "- For each of the epoch, there will be a loss generated for the training and validation set and also we will get the accuracy for training and validation set since we have defined them during compilation phase and we are capturing"
   ]
  },
  {
   "cell_type": "code",
   "execution_count": null,
   "id": "587824a1",
   "metadata": {
    "id": "587824a1",
    "outputId": "384d6529-5b6f-4742-ffec-af798b15ac7f"
   },
   "outputs": [
    {
     "name": "stdout",
     "output_type": "stream",
     "text": [
      "Epoch 1/100\n",
      "6300/6300 [==============================] - 13s 2ms/step - loss: 1111.1050 - accuracy: 0.7850 - val_loss: 288.2249 - val_accuracy: 0.8782\n",
      "Epoch 2/100\n",
      "6300/6300 [==============================] - 11s 2ms/step - loss: 891.9513 - accuracy: 0.7853 - val_loss: 3281.9373 - val_accuracy: 0.8782\n",
      "Epoch 3/100\n",
      "6300/6300 [==============================] - 12s 2ms/step - loss: 767.5924 - accuracy: 0.7866 - val_loss: 501.9387 - val_accuracy: 0.8782\n",
      "Epoch 4/100\n",
      "6300/6300 [==============================] - 13s 2ms/step - loss: 587.9721 - accuracy: 0.7856 - val_loss: 557.5276 - val_accuracy: 0.8782\n",
      "Epoch 5/100\n",
      "6300/6300 [==============================] - 13s 2ms/step - loss: 418.5070 - accuracy: 0.7844 - val_loss: 324.3058 - val_accuracy: 0.8782\n",
      "Epoch 6/100\n",
      "6300/6300 [==============================] - 13s 2ms/step - loss: 169.1540 - accuracy: 0.7718 - val_loss: 0.4949 - val_accuracy: 0.8782\n",
      "Epoch 7/100\n",
      "6300/6300 [==============================] - 13s 2ms/step - loss: 0.3883 - accuracy: 0.8767 - val_loss: 0.3706 - val_accuracy: 0.8782\n",
      "Epoch 8/100\n",
      "6300/6300 [==============================] - 13s 2ms/step - loss: 0.3735 - accuracy: 0.8767 - val_loss: 0.3706 - val_accuracy: 0.8782\n",
      "Epoch 9/100\n",
      "6300/6300 [==============================] - 13s 2ms/step - loss: 0.3734 - accuracy: 0.8767 - val_loss: 0.3706 - val_accuracy: 0.8782\n",
      "Epoch 10/100\n",
      "6300/6300 [==============================] - 13s 2ms/step - loss: 0.3734 - accuracy: 0.8767 - val_loss: 0.3706 - val_accuracy: 0.8782\n",
      "Epoch 11/100\n",
      "6300/6300 [==============================] - 14s 2ms/step - loss: 0.3734 - accuracy: 0.8767 - val_loss: 0.3706 - val_accuracy: 0.8782\n",
      "Epoch 12/100\n",
      "6300/6300 [==============================] - 15s 2ms/step - loss: 0.3735 - accuracy: 0.8767 - val_loss: 0.3706 - val_accuracy: 0.8782\n",
      "Epoch 13/100\n",
      "6300/6300 [==============================] - 15s 2ms/step - loss: 0.3734 - accuracy: 0.8767 - val_loss: 0.3706 - val_accuracy: 0.8782\n",
      "Epoch 14/100\n",
      "6300/6300 [==============================] - 16s 3ms/step - loss: 0.3734 - accuracy: 0.8767 - val_loss: 0.3706 - val_accuracy: 0.8782\n",
      "Epoch 15/100\n",
      "6300/6300 [==============================] - 15s 2ms/step - loss: 0.3734 - accuracy: 0.8767 - val_loss: 0.3706 - val_accuracy: 0.8782\n",
      "Epoch 16/100\n",
      "6300/6300 [==============================] - 14s 2ms/step - loss: 0.3734 - accuracy: 0.8767 - val_loss: 0.3706 - val_accuracy: 0.8782\n",
      "Epoch 17/100\n",
      "6300/6300 [==============================] - 14s 2ms/step - loss: 0.3734 - accuracy: 0.8767 - val_loss: 0.3706 - val_accuracy: 0.8782\n",
      "Epoch 18/100\n",
      "6300/6300 [==============================] - 14s 2ms/step - loss: 0.3734 - accuracy: 0.8767 - val_loss: 0.3706 - val_accuracy: 0.8782\n",
      "Epoch 19/100\n",
      "6300/6300 [==============================] - 13s 2ms/step - loss: 0.3734 - accuracy: 0.8767 - val_loss: 0.3706 - val_accuracy: 0.8782\n",
      "Epoch 20/100\n",
      "6300/6300 [==============================] - 13s 2ms/step - loss: 0.3734 - accuracy: 0.8767 - val_loss: 0.3706 - val_accuracy: 0.8782\n",
      "Epoch 21/100\n",
      "6300/6300 [==============================] - 14s 2ms/step - loss: 0.3735 - accuracy: 0.8767 - val_loss: 0.3706 - val_accuracy: 0.8782\n",
      "Epoch 22/100\n",
      "6300/6300 [==============================] - 14s 2ms/step - loss: 0.3734 - accuracy: 0.8767 - val_loss: 0.3706 - val_accuracy: 0.8782\n",
      "Epoch 23/100\n",
      "6300/6300 [==============================] - 14s 2ms/step - loss: 0.3734 - accuracy: 0.8767 - val_loss: 0.3706 - val_accuracy: 0.8782\n",
      "Epoch 24/100\n",
      "6300/6300 [==============================] - 13s 2ms/step - loss: 0.3734 - accuracy: 0.8767 - val_loss: 0.3706 - val_accuracy: 0.8782\n",
      "Epoch 25/100\n",
      "6300/6300 [==============================] - 13s 2ms/step - loss: 0.3734 - accuracy: 0.8767 - val_loss: 0.3706 - val_accuracy: 0.8782\n",
      "Epoch 26/100\n",
      "6300/6300 [==============================] - 13s 2ms/step - loss: 0.3734 - accuracy: 0.8767 - val_loss: 0.3706 - val_accuracy: 0.8782\n",
      "Epoch 27/100\n",
      "6300/6300 [==============================] - 13s 2ms/step - loss: 0.3735 - accuracy: 0.8767 - val_loss: 0.3706 - val_accuracy: 0.8782\n",
      "Epoch 28/100\n",
      "6300/6300 [==============================] - 15s 2ms/step - loss: 0.3734 - accuracy: 0.8767 - val_loss: 0.3706 - val_accuracy: 0.8782\n",
      "Epoch 29/100\n",
      "6300/6300 [==============================] - 13s 2ms/step - loss: 0.3734 - accuracy: 0.8767 - val_loss: 0.3706 - val_accuracy: 0.8782\n",
      "Epoch 30/100\n",
      "6300/6300 [==============================] - 14s 2ms/step - loss: 0.3734 - accuracy: 0.8767 - val_loss: 0.3706 - val_accuracy: 0.8782\n",
      "Epoch 31/100\n",
      "6300/6300 [==============================] - 14s 2ms/step - loss: 0.3734 - accuracy: 0.8767 - val_loss: 0.3706 - val_accuracy: 0.8782\n",
      "Epoch 32/100\n",
      "6300/6300 [==============================] - 14s 2ms/step - loss: 0.3734 - accuracy: 0.8767 - val_loss: 0.3707 - val_accuracy: 0.8782\n",
      "Epoch 33/100\n",
      "6300/6300 [==============================] - 15s 2ms/step - loss: 0.3734 - accuracy: 0.8767 - val_loss: 0.3707 - val_accuracy: 0.8782\n",
      "Epoch 34/100\n",
      "6300/6300 [==============================] - 13s 2ms/step - loss: 0.3735 - accuracy: 0.8767 - val_loss: 0.3706 - val_accuracy: 0.8782\n",
      "Epoch 35/100\n",
      "6300/6300 [==============================] - 12s 2ms/step - loss: 0.3734 - accuracy: 0.8767 - val_loss: 0.3706 - val_accuracy: 0.8782\n",
      "Epoch 36/100\n",
      "6300/6300 [==============================] - 12s 2ms/step - loss: 0.3735 - accuracy: 0.8767 - val_loss: 0.3706 - val_accuracy: 0.8782\n",
      "Epoch 37/100\n",
      "6300/6300 [==============================] - 13s 2ms/step - loss: 0.3734 - accuracy: 0.8767 - val_loss: 0.3706 - val_accuracy: 0.8782\n",
      "Epoch 38/100\n",
      "6300/6300 [==============================] - 13s 2ms/step - loss: 0.3734 - accuracy: 0.8767 - val_loss: 0.3706 - val_accuracy: 0.8782\n",
      "Epoch 39/100\n",
      "6300/6300 [==============================] - 12s 2ms/step - loss: 0.3735 - accuracy: 0.8767 - val_loss: 0.3706 - val_accuracy: 0.8782\n",
      "Epoch 40/100\n",
      "6300/6300 [==============================] - 12s 2ms/step - loss: 0.3734 - accuracy: 0.8767 - val_loss: 0.3706 - val_accuracy: 0.8782\n",
      "Epoch 41/100\n",
      "6300/6300 [==============================] - 12s 2ms/step - loss: 0.3734 - accuracy: 0.8767 - val_loss: 0.3706 - val_accuracy: 0.8782\n",
      "Epoch 42/100\n",
      "6300/6300 [==============================] - 12s 2ms/step - loss: 0.3734 - accuracy: 0.8767 - val_loss: 0.3706 - val_accuracy: 0.8782\n",
      "Epoch 43/100\n",
      "6300/6300 [==============================] - 14s 2ms/step - loss: 0.3734 - accuracy: 0.8767 - val_loss: 0.3706 - val_accuracy: 0.8782\n",
      "Epoch 44/100\n",
      "6300/6300 [==============================] - 13s 2ms/step - loss: 0.3734 - accuracy: 0.8767 - val_loss: 0.3706 - val_accuracy: 0.8782\n",
      "Epoch 45/100\n",
      "6300/6300 [==============================] - 13s 2ms/step - loss: 0.3735 - accuracy: 0.8767 - val_loss: 0.3706 - val_accuracy: 0.8782\n",
      "Epoch 46/100\n",
      "6300/6300 [==============================] - 13s 2ms/step - loss: 0.3735 - accuracy: 0.8767 - val_loss: 0.3706 - val_accuracy: 0.8782\n",
      "Epoch 47/100\n",
      "6300/6300 [==============================] - 12s 2ms/step - loss: 0.3735 - accuracy: 0.8767 - val_loss: 0.3706 - val_accuracy: 0.8782\n",
      "Epoch 48/100\n",
      "6300/6300 [==============================] - 14s 2ms/step - loss: 0.3734 - accuracy: 0.8767 - val_loss: 0.3706 - val_accuracy: 0.8782\n",
      "Epoch 49/100\n",
      "6300/6300 [==============================] - 12s 2ms/step - loss: 0.3734 - accuracy: 0.8767 - val_loss: 0.3706 - val_accuracy: 0.8782\n",
      "Epoch 50/100\n",
      "6300/6300 [==============================] - 12s 2ms/step - loss: 0.3734 - accuracy: 0.8767 - val_loss: 0.3706 - val_accuracy: 0.8782\n",
      "Epoch 51/100\n",
      "6300/6300 [==============================] - 13s 2ms/step - loss: 0.3734 - accuracy: 0.8767 - val_loss: 0.3706 - val_accuracy: 0.8782\n",
      "Epoch 52/100\n",
      "6300/6300 [==============================] - 15s 2ms/step - loss: 0.3734 - accuracy: 0.8767 - val_loss: 0.3706 - val_accuracy: 0.8782\n",
      "Epoch 53/100\n",
      "6300/6300 [==============================] - 15s 2ms/step - loss: 0.3734 - accuracy: 0.8767 - val_loss: 0.3706 - val_accuracy: 0.8782\n",
      "Epoch 54/100\n",
      "6300/6300 [==============================] - 14s 2ms/step - loss: 0.3735 - accuracy: 0.8767 - val_loss: 0.3706 - val_accuracy: 0.8782\n",
      "Epoch 55/100\n",
      "6300/6300 [==============================] - 14s 2ms/step - loss: 0.3734 - accuracy: 0.8767 - val_loss: 0.3706 - val_accuracy: 0.8782\n",
      "Epoch 56/100\n",
      "6300/6300 [==============================] - 13s 2ms/step - loss: 0.3735 - accuracy: 0.8767 - val_loss: 0.3706 - val_accuracy: 0.8782\n",
      "Epoch 57/100\n",
      "6300/6300 [==============================] - 14s 2ms/step - loss: 0.3735 - accuracy: 0.8767 - val_loss: 0.3706 - val_accuracy: 0.8782\n",
      "Epoch 58/100\n",
      "6300/6300 [==============================] - 14s 2ms/step - loss: 0.3734 - accuracy: 0.8767 - val_loss: 0.3706 - val_accuracy: 0.8782\n",
      "Epoch 59/100\n",
      "6300/6300 [==============================] - 13s 2ms/step - loss: 0.3734 - accuracy: 0.8767 - val_loss: 0.3706 - val_accuracy: 0.8782\n",
      "Epoch 60/100\n",
      "6300/6300 [==============================] - 14s 2ms/step - loss: 0.3734 - accuracy: 0.8767 - val_loss: 0.3706 - val_accuracy: 0.8782\n",
      "Epoch 61/100\n",
      "6300/6300 [==============================] - 14s 2ms/step - loss: 0.3734 - accuracy: 0.8767 - val_loss: 0.3706 - val_accuracy: 0.8782\n",
      "Epoch 62/100\n",
      "6300/6300 [==============================] - 14s 2ms/step - loss: 0.3734 - accuracy: 0.8767 - val_loss: 0.3706 - val_accuracy: 0.8782\n",
      "Epoch 63/100\n",
      "6300/6300 [==============================] - 14s 2ms/step - loss: 0.3734 - accuracy: 0.8767 - val_loss: 0.3706 - val_accuracy: 0.8782\n",
      "Epoch 64/100\n",
      "6300/6300 [==============================] - 14s 2ms/step - loss: 0.3734 - accuracy: 0.8767 - val_loss: 0.3706 - val_accuracy: 0.8782\n",
      "Epoch 65/100\n",
      "6300/6300 [==============================] - 13s 2ms/step - loss: 0.3734 - accuracy: 0.8767 - val_loss: 0.3706 - val_accuracy: 0.8782\n",
      "Epoch 66/100\n",
      "6300/6300 [==============================] - 14s 2ms/step - loss: 0.3735 - accuracy: 0.8767 - val_loss: 0.3706 - val_accuracy: 0.8782\n",
      "Epoch 67/100\n",
      "6300/6300 [==============================] - 13s 2ms/step - loss: 0.3734 - accuracy: 0.8767 - val_loss: 0.3706 - val_accuracy: 0.8782\n",
      "Epoch 68/100\n",
      "6300/6300 [==============================] - 15s 2ms/step - loss: 0.3734 - accuracy: 0.8767 - val_loss: 0.3706 - val_accuracy: 0.8782\n",
      "Epoch 69/100\n",
      "6300/6300 [==============================] - 14s 2ms/step - loss: 0.3735 - accuracy: 0.8767 - val_loss: 0.3706 - val_accuracy: 0.8782\n",
      "Epoch 70/100\n",
      "6300/6300 [==============================] - 14s 2ms/step - loss: 0.3734 - accuracy: 0.8767 - val_loss: 0.3706 - val_accuracy: 0.8782\n",
      "Epoch 71/100\n",
      "6300/6300 [==============================] - 14s 2ms/step - loss: 0.3734 - accuracy: 0.8767 - val_loss: 0.3706 - val_accuracy: 0.8782\n",
      "Epoch 72/100\n",
      "6300/6300 [==============================] - 14s 2ms/step - loss: 0.3735 - accuracy: 0.8767 - val_loss: 0.3706 - val_accuracy: 0.8782\n",
      "Epoch 73/100\n",
      "6300/6300 [==============================] - 14s 2ms/step - loss: 0.3735 - accuracy: 0.8767 - val_loss: 0.3706 - val_accuracy: 0.8782\n",
      "Epoch 74/100\n",
      "6300/6300 [==============================] - 13s 2ms/step - loss: 0.3734 - accuracy: 0.8767 - val_loss: 0.3706 - val_accuracy: 0.8782\n",
      "Epoch 75/100\n",
      "6300/6300 [==============================] - 13s 2ms/step - loss: 0.3734 - accuracy: 0.8767 - val_loss: 0.3706 - val_accuracy: 0.8782\n",
      "Epoch 76/100\n",
      "6300/6300 [==============================] - 13s 2ms/step - loss: 0.3734 - accuracy: 0.8767 - val_loss: 0.3706 - val_accuracy: 0.8782\n",
      "Epoch 77/100\n",
      "6300/6300 [==============================] - 13s 2ms/step - loss: 0.3735 - accuracy: 0.8767 - val_loss: 0.3706 - val_accuracy: 0.8782\n",
      "Epoch 78/100\n",
      "6300/6300 [==============================] - 14s 2ms/step - loss: 0.3734 - accuracy: 0.8767 - val_loss: 0.3706 - val_accuracy: 0.8782\n",
      "Epoch 79/100\n",
      "6300/6300 [==============================] - 14s 2ms/step - loss: 0.3734 - accuracy: 0.8767 - val_loss: 0.3706 - val_accuracy: 0.8782\n",
      "Epoch 80/100\n",
      "6300/6300 [==============================] - 13s 2ms/step - loss: 0.3735 - accuracy: 0.8767 - val_loss: 0.3706 - val_accuracy: 0.8782\n",
      "Epoch 81/100\n",
      "6300/6300 [==============================] - 13s 2ms/step - loss: 0.3734 - accuracy: 0.8767 - val_loss: 0.3706 - val_accuracy: 0.8782\n",
      "Epoch 82/100\n",
      "6300/6300 [==============================] - 13s 2ms/step - loss: 0.3735 - accuracy: 0.8767 - val_loss: 0.3706 - val_accuracy: 0.8782\n",
      "Epoch 83/100\n",
      "6300/6300 [==============================] - 14s 2ms/step - loss: 0.3734 - accuracy: 0.8767 - val_loss: 0.3706 - val_accuracy: 0.8782\n",
      "Epoch 84/100\n",
      "6300/6300 [==============================] - 14s 2ms/step - loss: 0.3734 - accuracy: 0.8767 - val_loss: 0.3706 - val_accuracy: 0.8782\n",
      "Epoch 85/100\n",
      "6300/6300 [==============================] - 14s 2ms/step - loss: 0.3734 - accuracy: 0.8767 - val_loss: 0.3706 - val_accuracy: 0.8782\n",
      "Epoch 86/100\n",
      "6300/6300 [==============================] - 14s 2ms/step - loss: 0.3734 - accuracy: 0.8767 - val_loss: 0.3706 - val_accuracy: 0.8782\n",
      "Epoch 87/100\n",
      "6300/6300 [==============================] - 14s 2ms/step - loss: 0.3734 - accuracy: 0.8767 - val_loss: 0.3706 - val_accuracy: 0.8782\n",
      "Epoch 88/100\n",
      "6300/6300 [==============================] - 14s 2ms/step - loss: 0.3735 - accuracy: 0.8767 - val_loss: 0.3706 - val_accuracy: 0.8782\n",
      "Epoch 89/100\n",
      "6300/6300 [==============================] - 13s 2ms/step - loss: 0.3734 - accuracy: 0.8767 - val_loss: 0.3706 - val_accuracy: 0.8782\n",
      "Epoch 90/100\n",
      "6300/6300 [==============================] - 14s 2ms/step - loss: 0.3734 - accuracy: 0.8767 - val_loss: 0.3706 - val_accuracy: 0.8782\n",
      "Epoch 91/100\n",
      "6300/6300 [==============================] - 14s 2ms/step - loss: 0.3734 - accuracy: 0.8767 - val_loss: 0.3706 - val_accuracy: 0.8782\n",
      "Epoch 92/100\n",
      "6300/6300 [==============================] - 15s 2ms/step - loss: 0.3734 - accuracy: 0.8767 - val_loss: 0.3706 - val_accuracy: 0.8782\n",
      "Epoch 93/100\n",
      "6300/6300 [==============================] - 14s 2ms/step - loss: 0.3734 - accuracy: 0.8767 - val_loss: 0.3706 - val_accuracy: 0.8782\n",
      "Epoch 94/100\n",
      "6300/6300 [==============================] - 14s 2ms/step - loss: 0.3734 - accuracy: 0.8767 - val_loss: 0.3706 - val_accuracy: 0.8782\n",
      "Epoch 95/100\n",
      "6300/6300 [==============================] - 14s 2ms/step - loss: 0.3734 - accuracy: 0.8767 - val_loss: 0.3706 - val_accuracy: 0.8782\n",
      "Epoch 96/100\n",
      "6300/6300 [==============================] - 14s 2ms/step - loss: 0.3734 - accuracy: 0.8767 - val_loss: 0.3707 - val_accuracy: 0.8782\n",
      "Epoch 97/100\n",
      "6300/6300 [==============================] - 14s 2ms/step - loss: 0.3734 - accuracy: 0.8767 - val_loss: 0.3706 - val_accuracy: 0.8782\n",
      "Epoch 98/100\n",
      "6300/6300 [==============================] - 14s 2ms/step - loss: 0.3734 - accuracy: 0.8767 - val_loss: 0.3706 - val_accuracy: 0.8782\n",
      "Epoch 99/100\n",
      "6300/6300 [==============================] - 13s 2ms/step - loss: 0.3734 - accuracy: 0.8767 - val_loss: 0.3706 - val_accuracy: 0.8782\n",
      "Epoch 100/100\n",
      "6300/6300 [==============================] - 13s 2ms/step - loss: 0.3734 - accuracy: 0.8767 - val_loss: 0.3707 - val_accuracy: 0.8782\n"
     ]
    }
   ],
   "source": [
    "hist=model.fit(x_train, y_train, \n",
    "              epochs=100, batch_size=32,\n",
    "              validation_data=(x_test, y_test)\n",
    "              )\n",
    "#this method is used for model training on the dataset for the specified number of fixed epocs or iteration methods"
   ]
  },
  {
   "cell_type": "code",
   "execution_count": null,
   "id": "8f026e05",
   "metadata": {
    "id": "8f026e05",
    "outputId": "c056dbd1-e4e9-4739-d48c-9719f4dba57c"
   },
   "outputs": [
    {
     "name": "stdout",
     "output_type": "stream",
     "text": [
      "7875/7875 [==============================] - 11s 1ms/step - loss: 0.3729 - accuracy: 0.8770\n",
      "Accuracy: 87.70\n"
     ]
    }
   ],
   "source": [
    "_, accuracy = model.evaluate(x, y)\n",
    "print('Accuracy: %.2f' % (accuracy*100))\n",
    "\n",
    "# we are getting the accuracy score.and this represents the number of correctly classified data instances\n",
    "#over the total number of data instances"
   ]
  },
  {
   "cell_type": "markdown",
   "id": "CFDrFriCgofV",
   "metadata": {
    "id": "CFDrFriCgofV"
   },
   "source": [
    "### VISUALIZING RESULTS (LOSS & ACCURACY): \n",
    "\n",
    "- Here, we will see the variation in loss function and accuracy observed over number of epochs."
   ]
  },
  {
   "cell_type": "code",
   "execution_count": null,
   "id": "bf192323",
   "metadata": {
    "id": "bf192323",
    "outputId": "db040a32-23ce-4fc0-b404-6f9ef9a27261"
   },
   "outputs": [
    {
     "data": {
      "text/plain": [
       "<matplotlib.legend.Legend at 0x20930730df0>"
      ]
     },
     "execution_count": 29,
     "metadata": {},
     "output_type": "execute_result"
    },
    {
     "data": {
      "image/png": "[encoded data removed]",
      "text/plain": [
       "<Figure size 640x480 with 1 Axes>"
      ]
     },
     "metadata": {},
     "output_type": "display_data"
    }
   ],
   "source": [
    "plt.plot(hist.history['loss'])\n",
    "plt.plot(hist.history['val_loss'])\n",
    "plt.title('Model Loss')\n",
    "plt.ylabel('loss')\n",
    "plt.xlabel('epochs')\n",
    "plt.legend(['Train', 'Val'], loc='upper right')"
   ]
  },
  {
   "cell_type": "code",
   "execution_count": null,
   "id": "a4e0a180",
   "metadata": {
    "id": "a4e0a180",
    "outputId": "2afabf34-7343-4661-de30-36608edf712b"
   },
   "outputs": [
    {
     "data": {
      "text/plain": [
       "<matplotlib.legend.Legend at 0x20921c8c220>"
      ]
     },
     "execution_count": 30,
     "metadata": {},
     "output_type": "execute_result"
    },
    {
     "data": {
      "image/png": "[encoded data removed]",
      "text/plain": [
       "<Figure size 6000x2000 with 1 Axes>"
      ]
     },
     "metadata": {},
     "output_type": "display_data"
    }
   ],
   "source": [
    "plt.figure(figsize =(60,20))\n",
    "plt.plot(hist.history['accuracy'])\n",
    "plt.plot(hist.history['val_accuracy'])\n",
    "plt.title('Model Accuracy')\n",
    "plt.ylabel('Accuracy')\n",
    "plt.xlabel('epochs')\n",
    "plt.legend(['Train', 'Val'], loc='upper right')"
   ]
  },
  {
   "cell_type": "code",
   "execution_count": null,
   "id": "80192413",
   "metadata": {
    "id": "80192413"
   },
   "outputs": [],
   "source": []
  }
 ],
 "metadata": {
  "colab": {
   "provenance": []
  },
  "kernelspec": {
   "display_name": "Python 3 (ipykernel)",
   "language": "python",
   "name": "python3"
  },
  "language_info": {
   "codemirror_mode": {
    "name": "ipython",
    "version": 3
   },
   "file_extension": ".py",
   "mimetype": "text/x-python",
   "name": "python",
   "nbconvert_exporter": "python",
   "pygments_lexer": "ipython3",
   "version": "3.9.7"
  }
 },
 "nbformat": 4,
 "nbformat_minor": 5
}
